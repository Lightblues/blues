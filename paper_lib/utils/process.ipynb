{
 "cells": [
  {
   "cell_type": "code",
   "execution_count": 7,
   "metadata": {},
   "outputs": [],
   "source": [
    "from easonsi.util.leetcode import *\n",
    "from easonsi import utils\n",
    "import os,sys\n",
    "import re\n",
    "\n",
    "# ddir = '/Users/frankshi/tmp/paperlib-240206'\n",
    "ddir = 'paperlib-main'"
   ]
  },
  {
   "cell_type": "code",
   "execution_count": 7,
   "metadata": {},
   "outputs": [
    {
     "name": "stdout",
     "output_type": "stream",
     "text": [
      "2022+Generative_Adversarial_Networks_for_face_generation_A_survey_65c1c01bc880faa41ffadc27_main.pdf\n"
     ]
    }
   ],
   "source": [
    "# face_generation\n",
    "def get_filter_title_papers(keyword):\n",
    "    \"\"\" \n",
    "    识别出标题中包含关键字的论文\n",
    "    \"\"\"\n",
    "    files = os.listdir(ddir)\n",
    "    for f in files:\n",
    "        if keyword in f:\n",
    "            print(f)\n",
    "get_filter_title_papers('face_generation')"
   ]
  },
  {
   "cell_type": "code",
   "execution_count": 5,
   "metadata": {},
   "outputs": [
    {
     "data": {
      "text/plain": [
       "['2023+arXiv+A_Survey_on_Large_Language_Models_for_Recommendation_65c1939d42ff6de8706b0b6f_main.pdf',\n",
       " '2022+ACM Computing Surveys+Generative_Adversarial_Networks_for_face_generation_A_survey_65ae85eaeca020eaf5853361_main.pdf',\n",
       " '2023+arXiv+How_Can_Recommender_Systems_Benefit_from_Large_Language_Models_A_Survey_65c1939d42ff6de8706b0b70_main.pdf',\n",
       " '2021+Proceedings of the 16th Conference of the European Chapter of the Association for Computational Ling+AdapterFusion_NonDestructive_Task_Composition_for_Transfer_Learning_65c119e442ff6de8706b0b2c_main.pdf',\n",
       " '2021+Proceedings of the 2021 Conference on Empirical Methods in Natural Language Processing+SimCSE_Simple_Contrastive_Learning_of_Sentence_Embeddings_65c11b7642ff6de8706b0b38_main.pdf',\n",
       " '2022+ACM Computing Surveys+Generative_Adversarial_Networks_for_face_generation_A_survey_65ae8622eca020eaf5853362_main.pdf',\n",
       " '2022+Proceedings of the 45th International ACM SIGIR Conference on Research and Development in Informatio+Knowledge_Graph_Contrastive_Learning_for_Recommendation_65ae88434af8a352ec549e55_main.pdf',\n",
       " '2023+arXiv+Retrieve_Anything_To_Augment_Large_Language_Models_65c11c7c42ff6de8706b0b65_main.pdf',\n",
       " '2023+arXiv+LLaMA_Open_and_Efficient_Foundation_Language_Models_65c11c0a42ff6de8706b0b60_main.pdf',\n",
       " '2023+Proceedings of the 61st Annual Meeting of the Association for Computational Linguistics (Volume 2: S+ScoNe_Benchmarking_Negation_Reasoning_in_Language_Models_With_FineTuning_and_InContext_Learning_65b60b0a61ccf755e80c348e_main.pdf',\n",
       " '2023+Conference on Empirical Methods in Natural Language Processing (EMNLP)+Guideline_Learning_for_InContext_Information_Extraction_65af55254af8a352ec549eca_main.pdf',\n",
       " '2024+Neurocomputing+RoFormer_Enhanced_transformer_with_Rotary_Position_Embedding_65c11b6442ff6de8706b0b37_main.pdf',\n",
       " '2020+SC20: International Conference for High Performance Computing, Networking, Storage and Analysis+ZeRO_Memory_optimizations_Toward_Training_Trillion_Parameter_Models_65c11b6442ff6de8706b0b36_main.pdf',\n",
       " '2022+Proceedings of the 2022 Conference on Empirical Methods in Natural Language Processing+RetroMAE_PreTraining_Retrievaloriented_Language_Models_Via_Masked_AutoEncoder_65c11b7642ff6de8706b0b39_main.pdf',\n",
       " '2023+arXiv+Expel_Llm_agents_are_experiential_learners_65ac7c14eca020eaf5852feb_main.pdf',\n",
       " '2023+arXiv+Llama__Open_Foundation_and_FineTuned_Chat_Models_65c11c0a42ff6de8706b0b5f_main.pdf',\n",
       " '2017+International Conference on Learning Representations+Mixed_Precision_Training_65c11b6442ff6de8706b0b35_main.pdf',\n",
       " '2023+Proceedings of the 2023 Conference on Empirical Methods in Natural Language Processing+GQA_Training_Generalized_MultiQuery_Transformer_Models_from_MultiHead_Checkpoints_65c11c6e42ff6de8706b0b64_main.pdf',\n",
       " '2022+International Conference on Learning Representations (ICLR)+Train_Short_Test_Long_Attention_with_Linear_Biases_Enables_Input_Length_Extrapolation_65c11b7642ff6de8706b0b3a_main.pdf',\n",
       " '2022+arXiv+DeepNet_Scaling_Transformers_to__Layers_65c1920042ff6de8706b0b6e_main.pdf',\n",
       " '2021+International Conference on Learning Representations (ICLR)+GShard_Scaling_Giant_Models_with_Conditional_Computation_and_Automatic_Sharding_65c1153a42c70d197f202581_main.pdf']"
      ]
     },
     "execution_count": 5,
     "metadata": {},
     "output_type": "execute_result"
    }
   ],
   "source": [
    "def get_untitiled_papers():\n",
    "    \"\"\" \n",
    "    识别出其中 2022+arXiv+DeepNet_Scaling_Transformers_to__Layers_65c1920042ff6de8706b0b6e_main.pdf 这种包括两个 +号的文件名\n",
    "    \"\"\"\n",
    "    files = os.listdir(ddir)\n",
    "    fns = []\n",
    "    for f in files:\n",
    "        if f.count('+') > 1:\n",
    "            # print(f)\n",
    "            fns.append(f)\n",
    "    return fns\n",
    "fns = get_untitiled_papers()\n",
    "fns"
   ]
  },
  {
   "cell_type": "code",
   "execution_count": 6,
   "metadata": {},
   "outputs": [],
   "source": [
    "# 将这些文件移出来\n",
    "tmpdir = f'{ddir}/tmp'\n",
    "os.makedirs(tmpdir, exist_ok=True)\n",
    "for fn in fns:\n",
    "    os.rename(f'{ddir}/{fn}', f'{tmpdir}/{fn}')"
   ]
  },
  {
   "cell_type": "code",
   "execution_count": 31,
   "metadata": {},
   "outputs": [
    {
     "data": {
      "text/plain": [
       "['DeepInterestNetworkforClickThroughRatePrediction',\n",
       " 'BiasandDebiasinRecommenderSystemASurveyandFutureDirections',\n",
       " 'ContrastiveLearningforSequentialRecommendation',\n",
       " 'RoFormerEnhancedtransformerwithRotaryPositionEmbedding',\n",
       " 'GQATrainingGeneralizedMultiQueryTransformerModelsfromMultiHeadCheckpoints',\n",
       " 'RetrieveAnythingToAugmentLargeLanguageModels',\n",
       " 'ASurveyonLargeLanguageModelsforRecommendation',\n",
       " 'HowCanRecommenderSystemsBenefitfromLargeLanguageModelsASurvey',\n",
       " 'RetroMAEPreTrainingRetrievalorientedLanguageModelsViaMaskedAutoEncoder',\n",
       " 'TrainShortTestLongAttentionwithLinearBiasesEnablesInputLengthExtrapolation']"
      ]
     },
     "execution_count": 31,
     "metadata": {},
     "output_type": "execute_result"
    }
   ],
   "source": [
    "\"\"\" 解析形如下面的bib形式，将标题提取出来，去除标题中的标点\n",
    "@inproceedings{xie2022contrastive,\n",
    "\tauthor = {Xie, Xu and Sun, Fei and Liu, Zhaoyang and Wu, Shiwen and Gao, Jinyang and Zhang, Jiandong and Ding, Bolin and Cui, Bin},\n",
    "\tbooktitle = {2022 {IEEE} 38th {International} {Conference} on {Data} {Engineering} ({ICDE})},\n",
    "\tyear = {2022},\n",
    "\tpages = {},\n",
    "\torganization = {IEEE},\n",
    "\ttitle = {Contrastive {Learning} for {Sequential} {Recommendation}},\n",
    "\tvolume = {},\n",
    "}\n",
    "\"\"\"\n",
    "def normalize_title(title):\n",
    "    title = re.sub(r'[^\\w\\s]', ' ', title)  # 去除标点\n",
    "    title = re.sub(r'_', ' ', title)        # 去除 _\n",
    "    # title = ' '.join(title.split())         # 去除多余的空格\n",
    "    \n",
    "    title = re.sub(r'\\d+', '', title)       # 去除数字\n",
    "    # 去除所有空白字符\n",
    "    title = title.replace(' ', '').replace('\\t', '').replace('\\n', '')\n",
    "    return title\n",
    "\n",
    "import bibtexparser\n",
    "def parse_bib(fn):\n",
    "    titles = []\n",
    "    with open(fn) as f:\n",
    "        bibs = bibtexparser.load(f)\n",
    "    for bib in bibs.entries:\n",
    "        title = bib['title']\n",
    "        title = normalize_title(title)\n",
    "        titles.append(title)\n",
    "    return titles\n",
    "titles = parse_bib(f'./main.bib')\n",
    "titles[:10]\n"
   ]
  },
  {
   "cell_type": "code",
   "execution_count": 32,
   "metadata": {},
   "outputs": [
    {
     "data": {
      "text/plain": [
       "['CTRLAConditionalTransformerLanguageModelforControllableGeneration',\n",
       " 'RetrievalAugmentedGenerationforLargeLanguageModelsASurvey',\n",
       " 'GraphbasedEmbeddingSmoothingforSequentialRecommendation',\n",
       " 'ASurveyonEvaluationofLargeLanguageModels',\n",
       " 'EvaluatingLargeLanguageModelsAComprehensiveSurvey',\n",
       " 'AReviewofSparseExpertModelsinDeepLearning',\n",
       " 'CommunicativeAgentsforSoftwareDevelopment',\n",
       " 'EnhancingUserInterestModelingwithKnowledgeEnrichedItemsetsforSequentialRecommendation',\n",
       " 'BenchmarkingLargeLanguageModelsinRetrievalAugmentedGeneration',\n",
       " 'BiasandDebiasinRecommenderSystemASurveyandFutureDirections']"
      ]
     },
     "execution_count": 32,
     "metadata": {},
     "output_type": "execute_result"
    }
   ],
   "source": [
    "\"\"\" 从类似下面的文件名中，解析得到规范化的标题\n",
    "'2023+arXiv+A_Survey_on_Large_Language_Models_for_Recommendation_65c1939d42ff6de8706b0b6f_main.pdf'\n",
    "\"\"\"\n",
    "\n",
    "def get_all_titles(ddir):\n",
    "    files = os.listdir(ddir)\n",
    "    titles = []\n",
    "    for f in files:\n",
    "        if not f.endswith('.pdf'): continue\n",
    "        title = f.split('+')[-1]\n",
    "        # 找到倒数第二个 _ 的位置\n",
    "        idx_suffix = title.rfind('_')\n",
    "        idx_suffix2 = title.rfind('_', 0, idx_suffix)\n",
    "        title = title[:idx_suffix2]\n",
    "        title = normalize_title(title)\n",
    "        titles.append(title)\n",
    "    return titles\n",
    "titles_from_fn = get_all_titles(ddir)\n",
    "titles_from_fn[:10]"
   ]
  },
  {
   "cell_type": "code",
   "execution_count": 35,
   "metadata": {},
   "outputs": [
    {
     "data": {
      "text/plain": [
       "(78, 77, 77)"
      ]
     },
     "execution_count": 35,
     "metadata": {},
     "output_type": "execute_result"
    }
   ],
   "source": [
    "len(titles_from_fn), len(set(titles_from_fn)), len(set(titles_from_fn))"
   ]
  },
  {
   "cell_type": "code",
   "execution_count": 33,
   "metadata": {},
   "outputs": [
    {
     "data": {
      "text/plain": [
       "set()"
      ]
     },
     "execution_count": 33,
     "metadata": {},
     "output_type": "execute_result"
    }
   ],
   "source": [
    "set(titles_from_fn) - set(titles)"
   ]
  },
  {
   "cell_type": "code",
   "execution_count": 27,
   "metadata": {},
   "outputs": [
    {
     "name": "stdout",
     "output_type": "stream",
     "text": [
      "['LightGCNSimplifyingandPoweringGraphConvolutionNetworkforRecommendation', 'LightweightModalityAdaptationtoSequentialRecommendationvia\\nCorrelationSupervision']\n"
     ]
    },
    {
     "data": {
      "text/plain": [
       "['LightGCNSimplifyingandPoweringGraphConvolutionNetworkforRecommendation',\n",
       " 'LightweightModalityAdaptationtoSequentialRecommendationviaCorrelationSupervision']"
      ]
     },
     "execution_count": 27,
     "metadata": {},
     "output_type": "execute_result"
    }
   ],
   "source": [
    "key = 'Light'\n",
    "ii = [i for i in titles if key in i]\n",
    "print(ii)\n",
    "[i for i in titles_from_fn if key in i]"
   ]
  },
  {
   "cell_type": "code",
   "execution_count": 21,
   "metadata": {},
   "outputs": [
    {
     "data": {
      "text/plain": [
       "['BERTRecSequentialRecommendationwithBidirectionalEncoderRepresentationsfromTransformer']"
      ]
     },
     "execution_count": 21,
     "metadata": {},
     "output_type": "execute_result"
    }
   ],
   "source": []
  },
  {
   "cell_type": "code",
   "execution_count": 22,
   "metadata": {},
   "outputs": [
    {
     "data": {
      "text/plain": [
       "False"
      ]
     },
     "execution_count": 22,
     "metadata": {},
     "output_type": "execute_result"
    }
   ],
   "source": [
    "'BERT4RecSequentialRecommendationwithBidirectionalEncoderRepresentationsfromTransformer' == 'BERTRecSequentialRecommendationwithBidirectionalEncoderRepresentationsfromTransformer'"
   ]
  },
  {
   "cell_type": "code",
   "execution_count": null,
   "metadata": {},
   "outputs": [],
   "source": []
  }
 ],
 "metadata": {
  "kernelspec": {
   "display_name": "Python 3",
   "language": "python",
   "name": "python3"
  },
  "language_info": {
   "codemirror_mode": {
    "name": "ipython",
    "version": 3
   },
   "file_extension": ".py",
   "mimetype": "text/x-python",
   "name": "python",
   "nbconvert_exporter": "python",
   "pygments_lexer": "ipython3",
   "version": "3.10.10"
  },
  "orig_nbformat": 4
 },
 "nbformat": 4,
 "nbformat_minor": 2
}
